{
 "cells": [
  {
   "cell_type": "markdown",
   "id": "f472204a-4913-4130-b711-f152b23c3a7e",
   "metadata": {},
   "source": [
    "# If Else condition"
   ]
  },
  {
   "cell_type": "code",
   "execution_count": null,
   "id": "5442d17b-10e0-4147-a6cc-836d5628d3c8",
   "metadata": {},
   "outputs": [],
   "source": [
    "first_name = input(\"what is your first name\")\n",
    "last_name = input(\"what is your last name\")\n",
    "age = input(\"what is your age\")\n",
    "contact = input(\"please enter your contacy number\")\n",
    "address = input(\"enter you permenent address\")\n",
    "print(f\"\"\"my first name is {first_name}\n",
    "my last name is {last_name}\n",
    "i am {age} year old\n",
    "my contact number is {contact}\n",
    "my parmanent address is {address}\"\"\")"
   ]
  }
 ],
 "metadata": {
  "kernelspec": {
   "display_name": "Python 3 (ipykernel)",
   "language": "python",
   "name": "python3"
  },
  "language_info": {
   "codemirror_mode": {
    "name": "ipython",
    "version": 3
   },
   "file_extension": ".py",
   "mimetype": "text/x-python",
   "name": "python",
   "nbconvert_exporter": "python",
   "pygments_lexer": "ipython3",
   "version": "3.13.5"
  }
 },
 "nbformat": 4,
 "nbformat_minor": 5
}
